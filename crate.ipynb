{
 "cells": [
  {
   "cell_type": "markdown",
   "metadata": {},
   "source": [
    "### MagLab RO Crate"
   ]
  },
  {
   "cell_type": "code",
   "execution_count": 1,
   "metadata": {},
   "outputs": [],
   "source": [
    "import os\n",
    "import json\n",
    "from rocrate.rocrate import ROCrate\n",
    "from rocrate.model.entity import Entity\n",
    "from rocrate.model.contextentity import ContextEntity"
   ]
  },
  {
   "cell_type": "markdown",
   "metadata": {},
   "source": [
    "# Load the JSON-LD data from the file and create a new ROCrate"
   ]
  },
  {
   "cell_type": "code",
   "execution_count": 2,
   "metadata": {},
   "outputs": [],
   "source": [
    "with open (\"/Users/shmishkat/Documents/CICompass/DataPrototype/files/data.json\") as f:\n",
    "    json_data = json.load(f)\n",
    "\n",
    "crate = ROCrate()"
   ]
  },
  {
   "cell_type": "markdown",
   "metadata": {},
   "source": [
    "# Add the dataset metadata"
   ]
  },
  {
   "cell_type": "code",
   "execution_count": 3,
   "metadata": {},
   "outputs": [
    {
     "data": {
      "text/plain": [
       "<https://example.com/datasets/MagLab/ schema:Dataset>"
      ]
     },
     "execution_count": 3,
     "metadata": {},
     "output_type": "execute_result"
    }
   ],
   "source": [
    "dataset_id = json_data[\"@id\"]\n",
    "dataset_type = json_data[\"@type\"]\n",
    "crate.add_dataset(dataset_id, properties=json_data)"
   ]
  },
  {
   "cell_type": "markdown",
   "metadata": {},
   "source": [
    "# Create a directory to store the data entities and contextual entities"
   ]
  },
  {
   "cell_type": "code",
   "execution_count": 4,
   "metadata": {},
   "outputs": [],
   "source": [
    "os.makedirs(\"my_crate\", exist_ok=True)"
   ]
  },
  {
   "cell_type": "markdown",
   "metadata": {},
   "source": [
    "# Add data entities to the crate (if any)"
   ]
  },
  {
   "cell_type": "code",
   "execution_count": null,
   "metadata": {},
   "outputs": [],
   "source": [
    "data_entities = [\n",
    "    entity for key, entity in json_data.items() if key.startswith(\"soso:\")\n",
    "]\n",
    "for entity in data_entities:\n",
    "    entity_id = entity[\"@type\"]\n",
    "    if \"@value\" in entity:\n",
    "        # For simple properties\n",
    "        crate.add_property(entity_id, entity[\"@value\"])\n",
    "    elif \"@id\" in entity:\n",
    "        # For file data entities\n",
    "        file_path = entity[\"@id\"]\n",
    "        crate.add_file(file_path, dest_path=\"data/\" + os.path.basename(file_path))"
   ]
  },
  {
   "cell_type": "markdown",
   "metadata": {},
   "source": [
    "# Add contextual entities to the crate"
   ]
  },
  {
   "cell_type": "code",
   "execution_count": 5,
   "metadata": {},
   "outputs": [],
   "source": [
    "owners = json_data.get(\"soso:Owner\", [])\n",
    "for owner in owners:\n",
    "    owner_id = owner[\"@type\"]\n",
    "    owner_properties = owner.copy()\n",
    "    del owner_properties[\"@type\"]\n",
    "    crate.add(ContextEntity(crate, owner_id, properties=owner_properties))\n",
    "\n",
    "manufacturers = json_data.get(\"soso:Manufacturer\", [])\n",
    "for manufacturer in manufacturers:\n",
    "    manufacturer_id = manufacturer[\"@type\"]\n",
    "    manufacturer_properties = manufacturer.copy()\n",
    "    del manufacturer_properties[\"@type\"]\n",
    "    crate.add(ContextEntity(crate, manufacturer_id, properties=manufacturer_properties))"
   ]
  },
  {
   "cell_type": "markdown",
   "metadata": {},
   "source": [
    "# Serialize the crate to disk"
   ]
  },
  {
   "cell_type": "code",
   "execution_count": 6,
   "metadata": {},
   "outputs": [],
   "source": [
    "crate.write(\"my_crate\")"
   ]
  },
  {
   "cell_type": "markdown",
   "metadata": {},
   "source": [
    "# Save the crate as a zip file"
   ]
  },
  {
   "cell_type": "code",
   "execution_count": 7,
   "metadata": {},
   "outputs": [
    {
     "data": {
      "text/plain": [
       "'/Users/shmishkat/Documents/CICompass/DataPrototype/my_crate.zip'"
      ]
     },
     "execution_count": 7,
     "metadata": {},
     "output_type": "execute_result"
    }
   ],
   "source": [
    "crate.write_zip(\"my_crate.zip\")"
   ]
  }
 ],
 "metadata": {
  "kernelspec": {
   "display_name": "venv",
   "language": "python",
   "name": "python3"
  },
  "language_info": {
   "codemirror_mode": {
    "name": "ipython",
    "version": 3
   },
   "file_extension": ".py",
   "mimetype": "text/x-python",
   "name": "python",
   "nbconvert_exporter": "python",
   "pygments_lexer": "ipython3",
   "version": "3.11.4"
  },
  "orig_nbformat": 4
 },
 "nbformat": 4,
 "nbformat_minor": 2
}
